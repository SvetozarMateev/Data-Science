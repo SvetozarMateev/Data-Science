{
 "cells": [
  {
   "cell_type": "code",
   "execution_count": 1,
   "metadata": {
    "collapsed": true
   },
   "outputs": [],
   "source": [
    "%matplotlib inline\n",
    "import math\n",
    "import matplotlib.pyplot as plt\n",
    "import numpy as np"
   ]
  },
  {
   "cell_type": "markdown",
   "metadata": {},
   "source": [
    "# Python Crash Course: Labs\n",
    "## Author Solutions"
   ]
  },
  {
   "cell_type": "markdown",
   "metadata": {},
   "source": [
    "### 1. Playing with Python\n",
    "We're going to execute some statements in order to get acquainted with the language."
   ]
  },
  {
   "cell_type": "code",
   "execution_count": 2,
   "metadata": {
    "collapsed": false
   },
   "outputs": [
    {
     "data": {
      "text/plain": [
       "6"
      ]
     },
     "execution_count": 2,
     "metadata": {},
     "output_type": "execute_result"
    }
   ],
   "source": [
    "2 + 2 * 2"
   ]
  },
  {
   "cell_type": "code",
   "execution_count": 3,
   "metadata": {
    "collapsed": false
   },
   "outputs": [
    {
     "data": {
      "text/plain": [
       "15"
      ]
     },
     "execution_count": 3,
     "metadata": {},
     "output_type": "execute_result"
    }
   ],
   "source": [
    "# This is a comment\n",
    "x = 15\n",
    "x"
   ]
  },
  {
   "cell_type": "code",
   "execution_count": 4,
   "metadata": {
    "collapsed": false
   },
   "outputs": [
    {
     "name": "stdout",
     "output_type": "stream",
     "text": [
      "Please enter a number: 42\n",
      "42\n"
     ]
    }
   ],
   "source": [
    "num = int(input(\"Please enter a number: \"))\n",
    "print(num)"
   ]
  },
  {
   "cell_type": "markdown",
   "metadata": {},
   "source": [
    "### 2. Sphere Area and Volume\n",
    "We're going to calculate the area and volume of a sphere given the radius (from the console). As a reminder, here are the relevant formulas:\n",
    "$$ S = 4\\pi R^2 $$\n",
    "$$ V = \\frac{4}{3}\\pi R^3 $$"
   ]
  },
  {
   "cell_type": "code",
   "execution_count": 5,
   "metadata": {
    "collapsed": false
   },
   "outputs": [
    {
     "name": "stdout",
     "output_type": "stream",
     "text": [
      "5.5\n",
      "Area: 380.133\n",
      "Volume: 696.91\n"
     ]
    }
   ],
   "source": [
    "radius = float(input())\n",
    "area = 4 * math.pi * radius ** 2\n",
    "volume = 4.0 / 3.0 * math.pi * radius ** 3\n",
    "print(\"Area: \" + str(round(area, 3)))\n",
    "print(\"Volume: \" + str(round(volume, 3)))"
   ]
  },
  {
   "cell_type": "markdown",
   "metadata": {},
   "source": [
    "### 3. Conditional Statements and Loops\n",
    "Let's just play a little bit with control structures."
   ]
  },
  {
   "cell_type": "code",
   "execution_count": 6,
   "metadata": {
    "collapsed": false
   },
   "outputs": [
    {
     "name": "stdout",
     "output_type": "stream",
     "text": [
      "The Universe still works\n",
      "I'm after the if-statement\n",
      "apple\n",
      "banana\n",
      "orange\n"
     ]
    }
   ],
   "source": [
    "if 3 < 5:\n",
    "    print(\"The Universe still works\")\n",
    "print(\"I'm after the if-statement\")\n",
    "\n",
    "fruits = [\"apple\", \"banana\", \"orange\"]\n",
    "for fruit in fruits:\n",
    "    print(fruit)"
   ]
  },
  {
   "cell_type": "markdown",
   "metadata": {},
   "source": [
    "### 4. Simple Histogram\n",
    "We're going to create a simple histogram of values, using star symbols as blocks."
   ]
  },
  {
   "cell_type": "code",
   "execution_count": 7,
   "metadata": {
    "collapsed": false
   },
   "outputs": [
    {
     "name": "stdout",
     "output_type": "stream",
     "text": [
      "histogram([4, 9, 7]):\n",
      "****\n",
      "*********\n",
      "*******\n",
      "histogram([4, 0, 3, 2]):\n",
      "****\n",
      "\n",
      "***\n",
      "**\n",
      "histogram([]):\n",
      "End of output\n"
     ]
    }
   ],
   "source": [
    "def histogram(nums):\n",
    "    for n in nums:\n",
    "        line = \"*\" * n\n",
    "        print(line)\n",
    "\n",
    "print(\"histogram([4, 9, 7]):\")\n",
    "histogram([4, 9, 7])\n",
    "print(\"histogram([4, 0, 3, 2]):\")\n",
    "histogram([4, 0, 3, 2])\n",
    "print(\"histogram([]):\")\n",
    "histogram([])\n",
    "print(\"End of output\")"
   ]
  },
  {
   "cell_type": "markdown",
   "metadata": {},
   "source": [
    "### 5. Summing and Multiplying Numbers\n",
    "These are two functions to return the sum and product of a Python list of numbers."
   ]
  },
  {
   "cell_type": "code",
   "execution_count": 8,
   "metadata": {
    "collapsed": false
   },
   "outputs": [
    {
     "name": "stdout",
     "output_type": "stream",
     "text": [
      "9\n",
      "3.18\n",
      "0\n",
      "24\n",
      "-31.144\n",
      "1\n"
     ]
    }
   ],
   "source": [
    "def sum(nums):\n",
    "    sum = 0\n",
    "    for num in nums:\n",
    "        sum += num\n",
    "    return sum\n",
    "\n",
    "def multiply(nums):\n",
    "    product = 1\n",
    "    for num in nums:\n",
    "        product *= num\n",
    "    return product\n",
    "\n",
    "print(sum([2, 3, 4]))\n",
    "print(sum([2, -3.4, 4.58]))\n",
    "print(sum([]))\n",
    "print(multiply([2, 3, 4]))\n",
    "print(multiply([2, -3.4, 4.58]))\n",
    "print(multiply([]))"
   ]
  },
  {
   "cell_type": "markdown",
   "metadata": {},
   "source": [
    "### 6. Factorial\n",
    "These two functions calculate the factorial of a number iteratively (using loops) and recursively."
   ]
  },
  {
   "cell_type": "code",
   "execution_count": 9,
   "metadata": {
    "collapsed": false
   },
   "outputs": [
    {
     "name": "stdout",
     "output_type": "stream",
     "text": [
      "120\n",
      "3628800\n",
      "15511210043330985984000000\n",
      "120\n",
      "3628800\n",
      "15511210043330985984000000\n"
     ]
    }
   ],
   "source": [
    "def fact_iterative(n):\n",
    "    result = 1\n",
    "    for i in range(2, n + 1):\n",
    "        result *= i\n",
    "    return result\n",
    "def fact_recursive(n):\n",
    "    if n == 0:\n",
    "        return 1\n",
    "    return n * fact_recursive(n - 1)\n",
    "\n",
    "print(fact_iterative(5))\n",
    "print(fact_iterative(10))\n",
    "print(fact_iterative(25))\n",
    "\n",
    "print(fact_recursive(5))\n",
    "print(fact_recursive(10))\n",
    "print(fact_recursive(25))"
   ]
  },
  {
   "cell_type": "markdown",
   "metadata": {},
   "source": [
    "### 7. Generators. Generating Infinite Sequences\n",
    "We're going to write a function which returns all positive powers of 2. Then, we're going to use it to print all powers of 2 in the interval $[1; 100000]$."
   ]
  },
  {
   "cell_type": "code",
   "execution_count": 10,
   "metadata": {
    "collapsed": false
   },
   "outputs": [
    {
     "name": "stdout",
     "output_type": "stream",
     "text": [
      "1\n",
      "2\n",
      "4\n",
      "8\n",
      "16\n",
      "32\n",
      "64\n",
      "128\n",
      "256\n",
      "512\n",
      "1024\n",
      "2048\n",
      "4096\n",
      "8192\n",
      "16384\n",
      "32768\n",
      "65536\n"
     ]
    }
   ],
   "source": [
    "def powers_of_two():\n",
    "    power = 0\n",
    "    while True: # Endless loop\n",
    "        yield 2 ** power\n",
    "        power += 1\n",
    "\n",
    "for p in powers_of_two():\n",
    "    if p >= 100000:\n",
    "        break\n",
    "    print(p)"
   ]
  },
  {
   "cell_type": "markdown",
   "metadata": {},
   "source": [
    "### 8. Data Structures\n",
    "We're going to play around a little bit with some of the Python data structures:\n",
    "* Lists\n",
    "* Matrices\n",
    "* Tuples\n",
    "* Dictionaries\n",
    "* Sets"
   ]
  },
  {
   "cell_type": "code",
   "execution_count": 11,
   "metadata": {
    "collapsed": false
   },
   "outputs": [
    {
     "name": "stdout",
     "output_type": "stream",
     "text": [
      "apple\n",
      "pineapple\n",
      "5\n",
      "True\n",
      "False\n",
      "+359 888 888\n",
      "new phone number\n",
      "John -> new phone number\n",
      "Dan -> +1 85 96 42\n",
      "Jane -> +1 564 128\n",
      "{(3, 4, 5), 2, 6, 1}\n",
      "1\n",
      "2\n"
     ]
    }
   ],
   "source": [
    "# Lists\n",
    "fruits = [\"apple\", \"banana\", \"orange\"]\n",
    "squares = [1, 4, 9, 16, 25, 36]\n",
    "mixed_list = [\"string\", True, -5.5, [\"List\", \"ception\"]]\n",
    "print(fruits[0])\n",
    "fruits[0] = \"pineapple\"\n",
    "print(fruits[0])\n",
    "\n",
    "# Matrices\n",
    "matrix = [\n",
    "  [1, 2, 3],\n",
    "  [4, 5, 6],\n",
    "  [7, 8, 9]\n",
    "]\n",
    "print(matrix[1][1])\n",
    "\n",
    "# Tuples\n",
    "numbers = (1, 2, 3, -10, 5.67)\n",
    "print(3 in numbers)\n",
    "print(42 in numbers)\n",
    "\n",
    "# Dictionaries\n",
    "phones = {\"John\": \"+359 888 888\", \"Jane\": \"+1 564 128\", \"Dan\": \"+1 85 96 42\"}\n",
    "print(phones[\"John\"])\n",
    "phones[\"John\"] = \"new phone number\"\n",
    "print(phones[\"John\"])\n",
    "for (person, number) in phones.items():\n",
    "    print(person + \" -> \" + number)\n",
    "\n",
    "# Sets\n",
    "nums_set = {1, 2, (3, 4, 5), 6}\n",
    "print(nums_set) # {(3, 4, 5), 2, 6, 1}\n",
    "nums_set = {1, 1, 1, 1, 1, 1, 1, 1, 1, 1, 2} # {1, 2}\n",
    "2 in nums_set # True\n",
    "for n in nums_set:\n",
    "    print(n)"
   ]
  },
  {
   "cell_type": "markdown",
   "metadata": {},
   "source": [
    "### 9. Using Libraries\n",
    "We're going to plot a sine function using Matplotlib and also explore numpy arrays just to get to know them.\n",
    "\n",
    "First, we're plotting $y = \\sin{(x)}, x \\in [-2\\pi; 2\\pi]$:"
   ]
  },
  {
   "cell_type": "code",
   "execution_count": 12,
   "metadata": {
    "collapsed": false
   },
   "outputs": [
    {
     "data": {
      "image/png": "[encoded data removed]",
      "text/plain": [
       "<matplotlib.figure.Figure at 0x119b7219978>"
      ]
     },
     "metadata": {},
     "output_type": "display_data"
    }
   ],
   "source": [
    "x = np.arange(-2 * math.pi, 2 * math.pi, 0.001)\n",
    "y = np.sin(x)\n",
    "plt.axhline(0, linestyle = \"--\", color = \"black\")\n",
    "plt.xlim(-2 * math.pi, 2 * math.pi)\n",
    "plt.plot(x, y)\n",
    "plt.show()"
   ]
  },
  {
   "cell_type": "markdown",
   "metadata": {},
   "source": [
    "Next, let's have a look at numpy vectorization. We'll see that it applies an operation to every element of the array. \n",
    "\n",
    "Let's also note that unline Python lists, numpy arrays have a fixed data type. When there are multiple data types, numpy converts all elements to the most common type."
   ]
  },
  {
   "cell_type": "code",
   "execution_count": 13,
   "metadata": {
    "collapsed": false
   },
   "outputs": [
    {
     "name": "stdout",
     "output_type": "stream",
     "text": [
      "[ 1  2  3  8  9 20]\n",
      "[  1   4   9  64  81 400]\n"
     ]
    }
   ],
   "source": [
    "x = np.array([1, 2, 3, 8, 9, 20])\n",
    "y = x ** 2\n",
    "print(x)\n",
    "print(y)"
   ]
  },
  {
   "cell_type": "code",
   "execution_count": 14,
   "metadata": {
    "collapsed": false
   },
   "outputs": [
    {
     "name": "stdout",
     "output_type": "stream",
     "text": [
      "['1' '2' '3']\n"
     ]
    }
   ],
   "source": [
    "x = np.array([1, \"2\", 3])\n",
    "print(x)"
   ]
  }
 ],
 "metadata": {
  "anaconda-cloud": {},
  "kernelspec": {
   "display_name": "Python [conda root]",
   "language": "python",
   "name": "conda-root-py"
  },
  "language_info": {
   "codemirror_mode": {
    "name": "ipython",
    "version": 3
   },
   "file_extension": ".py",
   "mimetype": "text/x-python",
   "name": "python",
   "nbconvert_exporter": "python",
   "pygments_lexer": "ipython3",
   "version": "3.5.2"
  }
 },
 "nbformat": 4,
 "nbformat_minor": 1
}
