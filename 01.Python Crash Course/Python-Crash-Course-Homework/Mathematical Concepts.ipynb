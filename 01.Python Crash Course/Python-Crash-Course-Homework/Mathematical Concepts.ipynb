{
 "cells": [
  {
   "cell_type": "markdown",
   "metadata": {},
   "source": [
    "## Visualizing Complex Numbers"
   ]
  },
  {
   "cell_type": "code",
   "execution_count": null,
   "metadata": {
    "collapsed": true
   },
   "outputs": [],
   "source": [
    "%matplotlib inline\n",
    "import numpy as np \n",
    "import matplotlib.pyplot as plt"
   ]
  },
  {
   "cell_type": "code",
   "execution_count": null,
   "metadata": {
    "collapsed": false
   },
   "outputs": [],
   "source": [
    "theta = 2*np.pi/5\n",
    "r=np.sin(theta)\n",
    "def getRectCoords(r,theta):\n",
    "    x= r*np.cos(theta)\n",
    "    y = r*np.sin(theta)\n",
    "    yield x\n",
    "    yield y\n",
    "\n",
    "def plotComplexNumbers(x,y):\n",
    "    for i in getRectCoords(r,theta):\n",
    "        x=i\n",
    "        y=i+1\n",
    "        \n",
    "    return plt.quiver(x,y)\n",
    "def visualizeComplexNumbers():\n",
    "    plotComplexNumbers(r,theta)\n",
    "    \n",
    "    \n",
    "    return plt.show()\n",
    "plt.axhline(0, linestyle=\"--\", color =\"black\")\n",
    "plt.axvline(0, linestyle=\"--\",color =\"black\")\n",
    "\n",
    "visualizeComplexNumbers()\n",
    "\n",
    "    \n",
    "  "
   ]
  },
  {
   "cell_type": "markdown",
   "metadata": {},
   "source": [
    "## Polar Plot"
   ]
  },
  {
   "cell_type": "code",
   "execution_count": null,
   "metadata": {
    "collapsed": false
   },
   "outputs": [],
   "source": [
    "def getRandTheta():\n",
    "    theta= np.arange(-2*np.pi,2*np.pi,0.001)\n",
    "    r= np.sin(theta)\n",
    "    return(theta,r)\n",
    "def plotPolar(theta,r):\n",
    "    theta,r=getRandTheta()\n",
    "    plt.polar(theta,r)\n",
    "    plt.plot(theta,r)\n",
    "    plt.show()\n",
    "plotPolar(theta,r)"
   ]
  },
  {
   "cell_type": "markdown",
   "metadata": {},
   "source": [
    "## Matrix Operations"
   ]
  },
  {
   "cell_type": "markdown",
   "metadata": {},
   "source": [
    "### 3X3 Matrices Addition"
   ]
  },
  {
   "cell_type": "code",
   "execution_count": null,
   "metadata": {
    "collapsed": false
   },
   "outputs": [],
   "source": [
    "def matrixInput():\n",
    "    firstrow=[0,0,0]\n",
    "    secondrow=[0,0,0]\n",
    "    thirdrow =[0,0,0]\n",
    "    for i in range(3):\n",
    "        text = input().split(' ')\n",
    "        if i==0:\n",
    "            firstrow[0]=int(text[0])\n",
    "            firstrow[1]=int(text[1])\n",
    "            firstrow[2]=int(text[2])\n",
    "        elif i==1:\n",
    "            secondrow[0]=int(text[0])\n",
    "            secondrow[1]=int(text[1])\n",
    "            secondrow[2]=int(text[2])\n",
    "        elif i==2:\n",
    "            thirdrow[0]=int(text[0])\n",
    "            thirdrow[1]=int(text[1])\n",
    "            thirdrow[2]=int(text[2])\n",
    "    return [firstrow,secondrow,thirdrow]\n",
    "\n",
    "FirstMatrix =matrixInput()\n",
    "SecondMatrix=matrixInput()\n",
    "result =[[0,0,0],\n",
    "         [0,0,0],\n",
    "         [0,0,0]]\n",
    "for i in range(3):\n",
    "    for a in range(3):\n",
    "        result[i][a]=FirstMatrix[i][a]+SecondMatrix[i][a]\n",
    "print(result[0])\n",
    "print(result[1])\n",
    "print(result[2])"
   ]
  },
  {
   "cell_type": "markdown",
   "metadata": {},
   "source": [
    "### Multiply a matrix with a scalar"
   ]
  },
  {
   "cell_type": "code",
   "execution_count": null,
   "metadata": {
    "collapsed": false
   },
   "outputs": [],
   "source": [
    "scalar=int(input(\"Write Scalar here:\"))\n",
    "Matrix = matrixInput()\n",
    "result =[[0,0,0],\n",
    "         [0,0,0],\n",
    "         [0,0,0]]\n",
    "for i in range(3):\n",
    "    for a in range(3):\n",
    "        result[i][a]= Matrix[i][a]*scalar\n",
    "print(result[0])\n",
    "print(result[1])\n",
    "print(result[2])"
   ]
  },
  {
   "cell_type": "markdown",
   "metadata": {},
   "source": [
    "### Multiply two 3X3 Matrices"
   ]
  },
  {
   "cell_type": "code",
   "execution_count": null,
   "metadata": {
    "collapsed": false
   },
   "outputs": [],
   "source": [
    "firstMatrix=matrixInput()\n",
    "secondMatrix=matrixInput()\n",
    "result =np.matmul(firstMatrix,secondMatrix)\n",
    "print(result[0])\n",
    "print(result[1])\n",
    "print(result[2])"
   ]
  },
  {
   "cell_type": "markdown",
   "metadata": {},
   "source": [
    "### Multiplying two vectors\n"
   ]
  },
  {
   "cell_type": "code",
   "execution_count": null,
   "metadata": {
    "collapsed": false
   },
   "outputs": [],
   "source": [
    "def vectorInput():\n",
    "    vector=input().split(' ')\n",
    "    vectorNum=[]\n",
    "    for i in vector:\n",
    "        vectorNum.append(int(i))\n",
    "    return vectorNum\n",
    "vectorOne= vectorInput()\n",
    "vectorTwo = vectorInput()\n",
    "result= np.dot(vectorOne,vectorTwo)\n",
    "print(result)\n",
    "                         "
   ]
  },
  {
   "cell_type": "markdown",
   "metadata": {},
   "source": [
    "## Solving linear equations"
   ]
  },
  {
   "cell_type": "code",
   "execution_count": null,
   "metadata": {
    "collapsed": false
   },
   "outputs": [],
   "source": [
    "def solvingEquations(A,B):\n",
    "    answer=np.linalg.solve\n",
    "    return answer\n",
    "A=matrixInput()\n",
    "B =int(input(\"Write free terms here:\").split(' '))\n",
    "result= solvingEquations(A,B)\n",
    "print(result)"
   ]
  }
 ],
 "metadata": {
  "kernelspec": {
   "display_name": "Python [conda root]",
   "language": "python",
   "name": "conda-root-py"
  },
  "language_info": {
   "codemirror_mode": {
    "name": "ipython",
    "version": 3
   },
   "file_extension": ".py",
   "mimetype": "text/x-python",
   "name": "python",
   "nbconvert_exporter": "python",
   "pygments_lexer": "ipython3",
   "version": "3.5.2"
  }
 },
 "nbformat": 4,
 "nbformat_minor": 1
}
