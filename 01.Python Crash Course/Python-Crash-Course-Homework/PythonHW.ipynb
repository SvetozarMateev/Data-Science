{
 "cells": [
  {
   "cell_type": "markdown",
   "metadata": {},
   "source": [
    "# Homework"
   ]
  },
  {
   "cell_type": "markdown",
   "metadata": {},
   "source": [
    "Equation of a line: $$y=ax+b$$\n",
    "Roots of the quadric equation $ax^2+bx+c=0$: $$ x_{1,2} =\\frac{ -b\\pm\\sqrt{b^2-4ac}}  {2a} $$\n",
    "Taylor series expansion: $$f(x)| {\\tiny x=a}= f(a)+f'(a)(x-a)+\\frac{f''(a)}{2!}(x-a)^2+ \\cdots + \\frac{f^{(n)}(a)}{n!}(x-a)^n+\\cdots $$\n",
    "Bionominal thoerem: $$(x+y)^n=\\binom{n}{0}x^1y^{n-1}+\\cdots+\\binom{n}{n}x^0y^n =\\sum\\limits_{k=0}^{n} \\binom{n}{k}x^{n-k}y^k$$\n",
    "An integral: $$\\int_{-\\infty}^{\\infty}e^{-x^2}dx=\\sqrt{\\pi}$$\n",
    "A short matrix: $$\\begin{pmatrix} 2&1&3\\\\ 2  & 6 & 8\\\\ 6& 8 & 18\\end{pmatrix} $$\n",
    "A long matrix: $$ A = \\begin{pmatrix} a_{11} & a_{12} & \\cdots & a_{1n}\\\\ a_{21} & a_{22} & \\cdots & a_{2n}\\\\ \\vdots & \\vdots & \\ddots& \\vdots\\\\ a_{m1} & a_{m2} & \\cdots & a_{mn} \\end{pmatrix}$$"
   ]
  }
 ],
 "metadata": {
  "anaconda-cloud": {},
  "kernelspec": {
   "display_name": "Python [conda root]",
   "language": "python",
   "name": "conda-root-py"
  },
  "language_info": {
   "codemirror_mode": {
    "name": "ipython",
    "version": 3
   },
   "file_extension": ".py",
   "mimetype": "text/x-python",
   "name": "python",
   "nbconvert_exporter": "python",
   "pygments_lexer": "ipython3",
   "version": "3.5.2"
  }
 },
 "nbformat": 4,
 "nbformat_minor": 1
}
