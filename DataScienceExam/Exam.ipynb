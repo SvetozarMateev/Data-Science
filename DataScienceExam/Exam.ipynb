{
 "cells": [
  {
   "cell_type": "code",
   "execution_count": 2,
   "metadata": {
    "collapsed": true
   },
   "outputs": [],
   "source": [
    "import pandas as pd\n",
    "import scipy.stats as st\n",
    "import matplotlib.pyplot as plt\n",
    "import numpy as np\n",
    "import operator"
   ]
  },
  {
   "cell_type": "markdown",
   "metadata": {},
   "source": [
    "# Crimes\n",
    "### Svetozar Mateev"
   ]
  },
  {
   "cell_type": "markdown",
   "metadata": {},
   "source": [
    "## Putting Crime in the US in Context\n"
   ]
  },
  {
   "cell_type": "markdown",
   "metadata": {},
   "source": [
    "First I am going to calculate the total crimes by dividing the population by 100 000 and then multiplying it by the crimes percapita.Then I am going to remove the NaN values."
   ]
  },
  {
   "cell_type": "code",
   "execution_count": 3,
   "metadata": {
    "collapsed": false
   },
   "outputs": [
    {
     "ename": "OSError",
     "evalue": "File b'report.csv' does not exist",
     "output_type": "error",
     "traceback": [
      "\u001b[0;31m---------------------------------------------------------------------------\u001b[0m",
      "\u001b[0;31mOSError\u001b[0m                                   Traceback (most recent call last)",
      "\u001b[0;32m<ipython-input-3-dacf7c6e210c>\u001b[0m in \u001b[0;36m<module>\u001b[0;34m()\u001b[0m\n\u001b[0;32m----> 1\u001b[0;31m \u001b[0mcrime_reports\u001b[0m\u001b[1;33m=\u001b[0m\u001b[0mpd\u001b[0m\u001b[1;33m.\u001b[0m\u001b[0mread_csv\u001b[0m\u001b[1;33m(\u001b[0m\u001b[1;34m\"report.csv\"\u001b[0m\u001b[1;33m)\u001b[0m\u001b[1;33m\u001b[0m\u001b[0m\n\u001b[0m\u001b[1;32m      2\u001b[0m \u001b[0mcrime_reports\u001b[0m\u001b[1;33m=\u001b[0m\u001b[0mcrime_reports\u001b[0m\u001b[1;33m.\u001b[0m\u001b[0mdropna\u001b[0m\u001b[1;33m(\u001b[0m\u001b[1;33m)\u001b[0m\u001b[1;33m\u001b[0m\u001b[0m\n\u001b[1;32m      3\u001b[0m \u001b[0mcrime_reports\u001b[0m\u001b[1;33m=\u001b[0m\u001b[0mcrime_reports\u001b[0m\u001b[1;33m.\u001b[0m\u001b[0mreset_index\u001b[0m\u001b[1;33m(\u001b[0m\u001b[1;33m)\u001b[0m\u001b[1;33m\u001b[0m\u001b[0m\n\u001b[1;32m      4\u001b[0m \u001b[0mcrime_reports\u001b[0m\u001b[1;33m[\u001b[0m\u001b[1;34m\"total_crimes\"\u001b[0m\u001b[1;33m]\u001b[0m\u001b[1;33m=\u001b[0m\u001b[1;33m(\u001b[0m\u001b[0mcrime_reports\u001b[0m\u001b[1;33m.\u001b[0m\u001b[0mpopulation\u001b[0m\u001b[1;33m/\u001b[0m\u001b[1;36m100000\u001b[0m\u001b[1;33m*\u001b[0m\u001b[0mcrime_reports\u001b[0m\u001b[1;33m.\u001b[0m\u001b[0mcrimes_percapita\u001b[0m\u001b[1;33m)\u001b[0m\u001b[1;33m\u001b[0m\u001b[0m\n\u001b[1;32m      5\u001b[0m \u001b[1;31m#crime_reports[[\"population\",'crimes_percapita','total_crimes']]\u001b[0m\u001b[1;33m\u001b[0m\u001b[1;33m\u001b[0m\u001b[0m\n",
      "\u001b[0;32mC:\\Users\\Lenovo\\Anaconda3\\lib\\site-packages\\pandas\\io\\parsers.py\u001b[0m in \u001b[0;36mparser_f\u001b[0;34m(filepath_or_buffer, sep, delimiter, header, names, index_col, usecols, squeeze, prefix, mangle_dupe_cols, dtype, engine, converters, true_values, false_values, skipinitialspace, skiprows, skipfooter, nrows, na_values, keep_default_na, na_filter, verbose, skip_blank_lines, parse_dates, infer_datetime_format, keep_date_col, date_parser, dayfirst, iterator, chunksize, compression, thousands, decimal, lineterminator, quotechar, quoting, escapechar, comment, encoding, dialect, tupleize_cols, error_bad_lines, warn_bad_lines, skip_footer, doublequote, delim_whitespace, as_recarray, compact_ints, use_unsigned, low_memory, buffer_lines, memory_map, float_precision)\u001b[0m\n\u001b[1;32m    560\u001b[0m                     skip_blank_lines=skip_blank_lines)\n\u001b[1;32m    561\u001b[0m \u001b[1;33m\u001b[0m\u001b[0m\n\u001b[0;32m--> 562\u001b[0;31m         \u001b[1;32mreturn\u001b[0m \u001b[0m_read\u001b[0m\u001b[1;33m(\u001b[0m\u001b[0mfilepath_or_buffer\u001b[0m\u001b[1;33m,\u001b[0m \u001b[0mkwds\u001b[0m\u001b[1;33m)\u001b[0m\u001b[1;33m\u001b[0m\u001b[0m\n\u001b[0m\u001b[1;32m    563\u001b[0m \u001b[1;33m\u001b[0m\u001b[0m\n\u001b[1;32m    564\u001b[0m     \u001b[0mparser_f\u001b[0m\u001b[1;33m.\u001b[0m\u001b[0m__name__\u001b[0m \u001b[1;33m=\u001b[0m \u001b[0mname\u001b[0m\u001b[1;33m\u001b[0m\u001b[0m\n",
      "\u001b[0;32mC:\\Users\\Lenovo\\Anaconda3\\lib\\site-packages\\pandas\\io\\parsers.py\u001b[0m in \u001b[0;36m_read\u001b[0;34m(filepath_or_buffer, kwds)\u001b[0m\n\u001b[1;32m    313\u001b[0m \u001b[1;33m\u001b[0m\u001b[0m\n\u001b[1;32m    314\u001b[0m     \u001b[1;31m# Create the parser.\u001b[0m\u001b[1;33m\u001b[0m\u001b[1;33m\u001b[0m\u001b[0m\n\u001b[0;32m--> 315\u001b[0;31m     \u001b[0mparser\u001b[0m \u001b[1;33m=\u001b[0m \u001b[0mTextFileReader\u001b[0m\u001b[1;33m(\u001b[0m\u001b[0mfilepath_or_buffer\u001b[0m\u001b[1;33m,\u001b[0m \u001b[1;33m**\u001b[0m\u001b[0mkwds\u001b[0m\u001b[1;33m)\u001b[0m\u001b[1;33m\u001b[0m\u001b[0m\n\u001b[0m\u001b[1;32m    316\u001b[0m \u001b[1;33m\u001b[0m\u001b[0m\n\u001b[1;32m    317\u001b[0m     \u001b[1;32mif\u001b[0m \u001b[1;33m(\u001b[0m\u001b[0mnrows\u001b[0m \u001b[1;32mis\u001b[0m \u001b[1;32mnot\u001b[0m \u001b[1;32mNone\u001b[0m\u001b[1;33m)\u001b[0m \u001b[1;32mand\u001b[0m \u001b[1;33m(\u001b[0m\u001b[0mchunksize\u001b[0m \u001b[1;32mis\u001b[0m \u001b[1;32mnot\u001b[0m \u001b[1;32mNone\u001b[0m\u001b[1;33m)\u001b[0m\u001b[1;33m:\u001b[0m\u001b[1;33m\u001b[0m\u001b[0m\n",
      "\u001b[0;32mC:\\Users\\Lenovo\\Anaconda3\\lib\\site-packages\\pandas\\io\\parsers.py\u001b[0m in \u001b[0;36m__init__\u001b[0;34m(self, f, engine, **kwds)\u001b[0m\n\u001b[1;32m    643\u001b[0m             \u001b[0mself\u001b[0m\u001b[1;33m.\u001b[0m\u001b[0moptions\u001b[0m\u001b[1;33m[\u001b[0m\u001b[1;34m'has_index_names'\u001b[0m\u001b[1;33m]\u001b[0m \u001b[1;33m=\u001b[0m \u001b[0mkwds\u001b[0m\u001b[1;33m[\u001b[0m\u001b[1;34m'has_index_names'\u001b[0m\u001b[1;33m]\u001b[0m\u001b[1;33m\u001b[0m\u001b[0m\n\u001b[1;32m    644\u001b[0m \u001b[1;33m\u001b[0m\u001b[0m\n\u001b[0;32m--> 645\u001b[0;31m         \u001b[0mself\u001b[0m\u001b[1;33m.\u001b[0m\u001b[0m_make_engine\u001b[0m\u001b[1;33m(\u001b[0m\u001b[0mself\u001b[0m\u001b[1;33m.\u001b[0m\u001b[0mengine\u001b[0m\u001b[1;33m)\u001b[0m\u001b[1;33m\u001b[0m\u001b[0m\n\u001b[0m\u001b[1;32m    646\u001b[0m \u001b[1;33m\u001b[0m\u001b[0m\n\u001b[1;32m    647\u001b[0m     \u001b[1;32mdef\u001b[0m \u001b[0mclose\u001b[0m\u001b[1;33m(\u001b[0m\u001b[0mself\u001b[0m\u001b[1;33m)\u001b[0m\u001b[1;33m:\u001b[0m\u001b[1;33m\u001b[0m\u001b[0m\n",
      "\u001b[0;32mC:\\Users\\Lenovo\\Anaconda3\\lib\\site-packages\\pandas\\io\\parsers.py\u001b[0m in \u001b[0;36m_make_engine\u001b[0;34m(self, engine)\u001b[0m\n\u001b[1;32m    797\u001b[0m     \u001b[1;32mdef\u001b[0m \u001b[0m_make_engine\u001b[0m\u001b[1;33m(\u001b[0m\u001b[0mself\u001b[0m\u001b[1;33m,\u001b[0m \u001b[0mengine\u001b[0m\u001b[1;33m=\u001b[0m\u001b[1;34m'c'\u001b[0m\u001b[1;33m)\u001b[0m\u001b[1;33m:\u001b[0m\u001b[1;33m\u001b[0m\u001b[0m\n\u001b[1;32m    798\u001b[0m         \u001b[1;32mif\u001b[0m \u001b[0mengine\u001b[0m \u001b[1;33m==\u001b[0m \u001b[1;34m'c'\u001b[0m\u001b[1;33m:\u001b[0m\u001b[1;33m\u001b[0m\u001b[0m\n\u001b[0;32m--> 799\u001b[0;31m             \u001b[0mself\u001b[0m\u001b[1;33m.\u001b[0m\u001b[0m_engine\u001b[0m \u001b[1;33m=\u001b[0m \u001b[0mCParserWrapper\u001b[0m\u001b[1;33m(\u001b[0m\u001b[0mself\u001b[0m\u001b[1;33m.\u001b[0m\u001b[0mf\u001b[0m\u001b[1;33m,\u001b[0m \u001b[1;33m**\u001b[0m\u001b[0mself\u001b[0m\u001b[1;33m.\u001b[0m\u001b[0moptions\u001b[0m\u001b[1;33m)\u001b[0m\u001b[1;33m\u001b[0m\u001b[0m\n\u001b[0m\u001b[1;32m    800\u001b[0m         \u001b[1;32melse\u001b[0m\u001b[1;33m:\u001b[0m\u001b[1;33m\u001b[0m\u001b[0m\n\u001b[1;32m    801\u001b[0m             \u001b[1;32mif\u001b[0m \u001b[0mengine\u001b[0m \u001b[1;33m==\u001b[0m \u001b[1;34m'python'\u001b[0m\u001b[1;33m:\u001b[0m\u001b[1;33m\u001b[0m\u001b[0m\n",
      "\u001b[0;32mC:\\Users\\Lenovo\\Anaconda3\\lib\\site-packages\\pandas\\io\\parsers.py\u001b[0m in \u001b[0;36m__init__\u001b[0;34m(self, src, **kwds)\u001b[0m\n\u001b[1;32m   1211\u001b[0m         \u001b[0mkwds\u001b[0m\u001b[1;33m[\u001b[0m\u001b[1;34m'allow_leading_cols'\u001b[0m\u001b[1;33m]\u001b[0m \u001b[1;33m=\u001b[0m \u001b[0mself\u001b[0m\u001b[1;33m.\u001b[0m\u001b[0mindex_col\u001b[0m \u001b[1;32mis\u001b[0m \u001b[1;32mnot\u001b[0m \u001b[1;32mFalse\u001b[0m\u001b[1;33m\u001b[0m\u001b[0m\n\u001b[1;32m   1212\u001b[0m \u001b[1;33m\u001b[0m\u001b[0m\n\u001b[0;32m-> 1213\u001b[0;31m         \u001b[0mself\u001b[0m\u001b[1;33m.\u001b[0m\u001b[0m_reader\u001b[0m \u001b[1;33m=\u001b[0m \u001b[0m_parser\u001b[0m\u001b[1;33m.\u001b[0m\u001b[0mTextReader\u001b[0m\u001b[1;33m(\u001b[0m\u001b[0msrc\u001b[0m\u001b[1;33m,\u001b[0m \u001b[1;33m**\u001b[0m\u001b[0mkwds\u001b[0m\u001b[1;33m)\u001b[0m\u001b[1;33m\u001b[0m\u001b[0m\n\u001b[0m\u001b[1;32m   1214\u001b[0m \u001b[1;33m\u001b[0m\u001b[0m\n\u001b[1;32m   1215\u001b[0m         \u001b[1;31m# XXX\u001b[0m\u001b[1;33m\u001b[0m\u001b[1;33m\u001b[0m\u001b[0m\n",
      "\u001b[0;32mpandas\\parser.pyx\u001b[0m in \u001b[0;36mpandas.parser.TextReader.__cinit__ (pandas\\parser.c:3427)\u001b[0;34m()\u001b[0m\n",
      "\u001b[0;32mpandas\\parser.pyx\u001b[0m in \u001b[0;36mpandas.parser.TextReader._setup_parser_source (pandas\\parser.c:6861)\u001b[0;34m()\u001b[0m\n",
      "\u001b[0;31mOSError\u001b[0m: File b'report.csv' does not exist"
     ]
    }
   ],
   "source": [
    "crime_reports=pd.read_csv(\"report.csv\")\n",
    "crime_reports=crime_reports.dropna()\n",
    "crime_reports=crime_reports.reset_index()\n",
    "crime_reports[\"total_crimes\"]=(crime_reports.population/100000*crime_reports.crimes_percapita)\n",
    "#crime_reports[[\"population\",'crimes_percapita','total_crimes']]\n"
   ]
  },
  {
   "cell_type": "markdown",
   "metadata": {},
   "source": [
    "•\tHave a look at the “months_reported” column values. What do they mean? What percent of the rows have less than 12 months? How significant is that?"
   ]
  },
  {
   "cell_type": "code",
   "execution_count": null,
   "metadata": {
    "collapsed": false
   },
   "outputs": [],
   "source": [
    "crime_reports[\"months_reported\"].unique()\n",
    "less_than_twelve=crime_reports[crime_reports.months_reported<12]\n",
    "print(str(len(less_than_twelve)/len(crime_reports.months_reported)*100)+'%')"
   ]
  },
  {
   "cell_type": "markdown",
   "metadata": {},
   "source": [
    "The months reported column indicates how much months from the year have been reported and only 1.9% of the rows have less than 12 months reported per year whichn on a 5% level isn't significant."
   ]
  },
  {
   "cell_type": "markdown",
   "metadata": {},
   "source": [
    "•\tOverall crime popularity: Create a bar chart of crime frequencies (total, not per capita). Display the type of crime and total occurrences (sum over all years). Sort largest to smallest. Are there any patterns? Which crime is most common?"
   ]
  },
  {
   "cell_type": "code",
   "execution_count": null,
   "metadata": {
    "collapsed": false
   },
   "outputs": [],
   "source": [
    "homicides_total_sum=crime_reports.homicides.sum()\n",
    "rapes_total_sum=crime_reports.rapes.sum()\n",
    "assaults_total_sum=crime_reports.assaults.sum()\n",
    "robberies_total_sum=crime_reports.robberies.sum()\n",
    "total_crimes_total_sum= crime_reports.total_crimes.sum()\n",
    "homicides_frequency=homicides_total_sum/total_crimes_total_sum\n",
    "rapes_frequency=rapes_total_sum/total_crimes_total_sum\n",
    "assaults_frequency=assaults_total_sum/total_crimes_total_sum\n",
    "robberies_frequency=robberies_total_sum/total_crimes_total_sum\n",
    "\n",
    "plt.bar(height=[assaults_frequency,robberies_frequency,rapes_frequency,homicides_frequency],left=[1,2,3,4], align = \"center\",width=0.2)\n",
    "plt.xticks([1,2,3,4,],['Assaults','Robberies','Rapes','Homicides'])\n",
    "plt.ylabel(\"Frequency of a crime\")\n",
    "plt.show()"
   ]
  },
  {
   "cell_type": "markdown",
   "metadata": {},
   "source": [
    "The most frequent crimes are the assaults and i can see from the diagram that crimes which are less serious are committed more often."
   ]
  },
  {
   "cell_type": "markdown",
   "metadata": {},
   "source": [
    "•\tCrime popularity by year: Break down the analysis of the previous graph by year. What is the most common crime (total, not per capita) for each year? What is the least common one?"
   ]
  },
  {
   "cell_type": "code",
   "execution_count": null,
   "metadata": {
    "collapsed": false
   },
   "outputs": [],
   "source": [
    "homicides_sum=0\n",
    "rapes_sum=0\n",
    "assaults_sum=0\n",
    "robberies_sum=0\n",
    "for year in crime_reports.report_year.unique():\n",
    "    year_df=crime_reports[crime_reports.report_year==year]\n",
    "    homicides_sum_year=year_df.homicides.sum()\n",
    "    rapes_sum_year=year_df.rapes.sum()\n",
    "    assaults_sum_year=year_df.assaults.sum()\n",
    "    robberies_sum_year=year_df.robberies.sum()\n",
    "    if(homicides_sum_year>rapes_sum_year and homicides_sum_year>assaults_sum_year and homicides_sum_year>robberies_sum_year):\n",
    "        homiciedes_sum+=1\n",
    "        print(str(year)+' '+\"homicides\")\n",
    "    elif(homicides_sum_year<rapes_sum_year and rapes_sum_year>assaults_sum_year and rapes_sum_year>robberies_sum_year):\n",
    "        rapes_sum+=1\n",
    "        print(str(year)+' '+\"rapes\")\n",
    "\n",
    "    elif(homicides_sum_year<assaults_sum_year and rapes_sum_year<assaults_sum_year and assaults_sum_year>robberies_sum_year):\n",
    "        assaults_sum+=1\n",
    "        print(str(year)+' '+\"assaults\")\n",
    "\n",
    "    elif(homicides_sum_year<robberies_sum_year and rapes_sum_year<robberies_sum_year and assaults_sum_year<robberies_sum_year):\n",
    "        robberies_sum+=1\n",
    "        print(str(year)+' '+\"robberies\")\n",
    "\n",
    "\n",
    "plt.bar(height=[assaults_sum,robberies_sum,homicides_sum,rapes_sum],left=[1,2,3,4],align='center')#most common one through the years\n",
    "plt.xticks([1,2,3,4,],['Assaults','Robberies','Homicides','Rapes'])\n",
    "plt.ylabel(\"Times a crime was most often for a year\")\n",
    "plt.show()\n"
   ]
  },
  {
   "cell_type": "markdown",
   "metadata": {},
   "source": [
    "I can see from the bar chart that assault were the most popular crime for a year almost thirty time and that the homicides and rapes were never the most popular crime for a year."
   ]
  },
  {
   "cell_type": "markdown",
   "metadata": {},
   "source": [
    "•\tCrime evolution (e. g. crime rates as a function of time): How do crime rates per capita evolve over the years? Create a plot (or a series) of plots displaying how each rate evolves. Create another plot of all crimes (total, not per capita) over the years."
   ]
  },
  {
   "cell_type": "code",
   "execution_count": null,
   "metadata": {
    "collapsed": false
   },
   "outputs": [],
   "source": [
    "rapes_per_capita=[]\n",
    "homicides_per_capita=[]\n",
    "assaults_per_capita=[]\n",
    "robberies_per_capita=[]\n",
    "for year in crime_reports.report_year.unique():\n",
    "    year_df=crime_reports[crime_reports.report_year==year]\n",
    "    homicides_mean_year=year_df.homicides_percapita.mean()\n",
    "    rapes_mean_year=year_df.rapes_percapita.mean()\n",
    "    assaults_mean_year=year_df.assaults_percapita.mean()\n",
    "    robberies_mean_year=year_df.robberies_percapita.mean()\n",
    "   \n",
    "    homicides_per_capita.append(homicides_mean_year)\n",
    "    \n",
    "    rapes_per_capita.append(rapes_mean_year)\n",
    "    \n",
    "    assaults_per_capita.append(assaults_mean_year)\n",
    "\n",
    "    robberies_per_capita.append(robberies_mean_year)\n",
    "plt.plot(crime_reports.report_year.unique(),rapes_per_capita)\n",
    "plt.suptitle(\"Rapes\")\n",
    "plt.xlabel(\"Years\")\n",
    "plt.ylabel('Crimes per capira')\n",
    "plt.show()\n",
    "plt.plot(crime_reports.report_year.unique(),homicides_per_capita)\n",
    "plt.suptitle(\"Homicides\")\n",
    "plt.xlabel(\"Years\")\n",
    "plt.ylabel('Crimes per capira')\n",
    "plt.show()\n",
    "plt.plot(crime_reports.report_year.unique(),assaults_per_capita)\n",
    "plt.suptitle(\"Assaults\")\n",
    "plt.xlabel(\"Years\")\n",
    "plt.ylabel('Crimes per capira')\n",
    "plt.show()\n",
    "plt.plot(crime_reports.report_year.unique(),robberies_per_capita)\n",
    "plt.suptitle(\"Robberies\")\n",
    "plt.xlabel(\"Years\")\n",
    "plt.ylabel('Crimes per capira')\n",
    "plt.show()"
   ]
  },
  {
   "cell_type": "markdown",
   "metadata": {},
   "source": [
    "From the plots we can see that each crime has significanttly lower rate per capita and that for all of them the peak was between 1990 and 1995."
   ]
  },
  {
   "cell_type": "code",
   "execution_count": null,
   "metadata": {
    "collapsed": false
   },
   "outputs": [],
   "source": [
    "rapes_per_year=[]\n",
    "homicides_per_year=[]\n",
    "assaults_per_year=[]\n",
    "robberies_per_year=[]\n",
    "for year in crime_reports.report_year.unique():\n",
    "    year_df=crime_reports[crime_reports.report_year==year]\n",
    "    homicides_mean_year=year_df.homicides.sum()\n",
    "    rapes_mean_year=year_df.rapes.sum()\n",
    "    assaults_mean_year=year_df.assaults.sum()\n",
    "    robberies_mean_year=year_df.robberies.sum()\n",
    "   \n",
    "    homicides_per_year.append(homicides_mean_year)\n",
    "    \n",
    "    rapes_per_year.append(rapes_mean_year)\n",
    "    \n",
    "    assaults_per_year.append(assaults_mean_year)\n",
    "\n",
    "    robberies_per_year.append(robberies_mean_year)\n",
    "plt.plot(crime_reports.report_year.unique(),rapes_per_year,label=\"Rapes\")\n",
    "plt.plot(crime_reports.report_year.unique(),assaults_per_year,label=\"Assaults\")\n",
    "plt.plot(crime_reports.report_year.unique(),homicides_per_year,label=\"Homicides\")\n",
    "plt.plot(crime_reports.report_year.unique(),robberies_per_year,label=\"Robberies\")\n",
    "plt.legend()\n",
    "plt.ylabel(\"Number of crimes\")\n",
    "plt.xlabel(\"Years\")\n",
    "plt.show()"
   ]
  },
  {
   "cell_type": "markdown",
   "metadata": {},
   "source": [
    "Again our observations are confirmed that the peak of the crimes is around 1990 and that in present there are a lot less crimes except the rapes which between 2010 and 2015 have begun raise slightly."
   ]
  },
  {
   "cell_type": "markdown",
   "metadata": {},
   "source": [
    "## Crimes by States"
   ]
  },
  {
   "cell_type": "markdown",
   "metadata": {},
   "source": [
    "•\t“Criminal” jurisdictions: Plot the sum of all crimes (total, not per capita) for each jurisdiction. Sort largest to smallest. Are any jurisdictions more prone to crime?"
   ]
  },
  {
   "cell_type": "code",
   "execution_count": null,
   "metadata": {
    "collapsed": false
   },
   "outputs": [],
   "source": [
    "#agency_jurisdiction\n",
    "jurisdicitons=[]\n",
    "counter=0\n",
    "crimes_per_jurisdiction=[]\n",
    "agencies_df=crime_reports.sort_values('violent_crimes',ascending=False)\n",
    "\n",
    "for jurisdiciton in agencies_df.agency_jurisdiction.unique():\n",
    "    jurisdicition_df=agencies_df[agencies_df.agency_jurisdiction==jurisdiciton]\n",
    "    all_crimes=jurisdicition_df.violent_crimes.sum()\n",
    "    crimes_per_jurisdiction.append(all_crimes)\n",
    "    counter+=1\n",
    "    jurisdicitons.append(jurisdiciton)\n",
    "    if counter==10:\n",
    "        break\n",
    "df_plottt=pd.DataFrame({'area':jurisdicitons,'num':crimes_per_jurisdiction})\n",
    "df_plottt=df_plottt.sort_values('num',ascending=False)\n",
    "plt.bar(height=df_plottt.num,left=[1,2,3,4,5,6,7,8,9,10],align='center')\n",
    "plt.xticks([1,2,3,4,5,6,7,8,9,10],df_plottt.area,rotation='vertical')\n",
    "plt.ylabel(\"Number of Crimes\")\n",
    "plt.show()"
   ]
  },
  {
   "cell_type": "markdown",
   "metadata": {},
   "source": [
    "From the bar chart we can see that the New York City,Ny jurisdiction has the most crimes."
   ]
  },
  {
   "cell_type": "markdown",
   "metadata": {},
   "source": [
    "•\t“Criminal” jurisdictions, part 2: Create the same type of chart as above, but use the crime rates per capita this time. Are you getting the same distribution? Why? You may need data from the “population” column to answer this. Don’t perform significance tests, just inspect the plots."
   ]
  },
  {
   "cell_type": "code",
   "execution_count": null,
   "metadata": {
    "collapsed": false
   },
   "outputs": [],
   "source": [
    "jurisdicitons=[]\n",
    "counter=0\n",
    "crimes_per_jurisdiction=[]\n",
    "population=[]\n",
    "agencies_df=crime_reports\n",
    "agencies_df=crime_reports.sort_values('crimes_percapita',ascending=False)\n",
    "\n",
    "for a in agencies_df.agency_jurisdiction.unique():\n",
    "    agencies_df[\"crimes_percapita_per_agency\"]=agencies_df[agencies_df.agency_jurisdiction==jurisdiciton].crimes_percapita.sum()\n",
    "agencies_df=agencies_df.sort_values('crimes_percapita_per_agency',ascending=True)\n",
    "\n",
    "for jurisdiciton in agencies_df.agency_jurisdiction.unique():\n",
    "    jurisdicition_df=agencies_df[agencies_df.agency_jurisdiction==jurisdiciton]\n",
    "    all_crimes=jurisdicition_df.crimes_percapita.sum()\n",
    "    crimes_per_jurisdiction.append(all_crimes)\n",
    "    counter+=1\n",
    "    jurisdicitons.append(jurisdiciton)\n",
    "    population.append(jurisdicition_df.population.mean())\n",
    "    if counter==10:\n",
    "        break\n",
    "\n",
    "df_plot=pd.DataFrame({'jurisdicitons':jurisdicitons,'num':crimes_per_jurisdiction})\n",
    "df_plot=df_plot.sort_values('num',ascending=False,axis=0)\n",
    "plt.bar(height=df_plot.num,left=[1,2,3,4,5,6,7,8,9,10],align='center')\n",
    "plt.xticks([1,2,3,4,5,6,7,8,9,10],df_plot.jurisdicitons,rotation='vertical')\n",
    "plt.ylabel(\"Number of Crimes\")\n",
    "plt.show()\n",
    "\n",
    "df_pop_plot=pd.DataFrame({'area':jurisdicitons,'num':population})\n",
    "df_pop_plot=df_pop_plot.sort_values('num',ascending=False,axis=0)\n",
    "plt.bar(height=df_pop_plot.num,left=[1,2,3,4,5,6,7,8,9,10],align='center')\n",
    "plt.xticks([1,2,3,4,5,6,7,8,9,10],df_pop_plot.area,rotation='vertical')\n",
    "plt.ylabel(\"Population\")\n",
    "plt.show()"
   ]
  },
  {
   "cell_type": "markdown",
   "metadata": {},
   "source": [
    "We can see that the crime per capita in Miami is the biggest contary to the previous plot. However it appears to have little correlation between the number of crimes per capita and the population."
   ]
  },
  {
   "cell_type": "markdown",
   "metadata": {},
   "source": [
    "•\t“Criminal states”: Create the same type of chart as in the first subproblem, but use the states instead. You can get the state name in two ways: either the first two letters of the agency_code column or the symbols after the comma in the agency_jurisdiction column."
   ]
  },
  {
   "cell_type": "code",
   "execution_count": null,
   "metadata": {
    "collapsed": false
   },
   "outputs": [],
   "source": [
    "parts=crime_reports['agency_jurisdiction'].str.extract(\"(\\w+), (\\w+)\", expand = True)\n",
    "parts.columns=['something_else','state']\n",
    "parts['state']\n",
    "crime_reports['state']=parts['state']\n",
    "\n",
    "crime_states=[]\n",
    "total_crimes=[]\n",
    "counter=0\n",
    "gencies_df=crime_reports.sort_values('violent_crimes',ascending=False)\n",
    "for state in crime_reports.state.unique():\n",
    "    jurisdicition_df=crime_reports[crime_reports.state==state]\n",
    "    all_crimes=jurisdicition_df.violent_crimes.sum()\n",
    "    total_crimes.append(all_crimes)\n",
    "    crime_states.append(state)\n",
    "    counter+=1\n",
    "    jurisdicitons.append(jurisdiciton)\n",
    "    if counter==10:\n",
    "        break\n",
    "        \n",
    "plot_df=pd.DataFrame({'states':crime_states,'num':total_crimes})\n",
    "plot_df=plot_df.sort_values('num',ascending=False)\n",
    "plt.bar(height=plot_df.num,left=[1,2,3,4,5,6,7,8,9,10],align='center')\n",
    "plt.xticks([1,2,3,4,5,6,7,8,9,10],plot_df.states)\n",
    "plt.ylabel(\"Number Of Crimes\")\n",
    "plt.show()\n"
   ]
  },
  {
   "cell_type": "markdown",
   "metadata": {},
   "source": [
    "From the chart we can see that New York has the biggest number of crimes."
   ]
  },
  {
   "cell_type": "markdown",
   "metadata": {},
   "source": [
    "•\tHypothesis testing: Are crime rates per capita related to population, e. g. does a more densely populated community produce more crime (because there are more people), or less crime (because there is a better police force)? Plot the total number of crimes vs. population to find out. Is there any correlation? If so, what is it? Is the correlation significant?"
   ]
  },
  {
   "cell_type": "code",
   "execution_count": null,
   "metadata": {
    "collapsed": false
   },
   "outputs": [],
   "source": [
    "total_crimes=[]\n",
    "agency_jurisdiction=[]\n",
    "population=[]\n",
    "counter=0\n",
    "for jurisdiction in crime_reports.agency_jurisdiction.unique():\n",
    "    jurisdicition_df=crime_reports[crime_reports.agency_jurisdiction==jurisdiction]\n",
    "    all_crimes=jurisdicition_df.violent_crimes.sum()\n",
    "    total_crimes.append(all_crimes)   \n",
    "    counter+=1\n",
    "    agency_jurisdiction.append(jurisdiction)\n",
    "    population.append(jurisdicition_df.population.mean())\n",
    "    if counter==10:\n",
    "        break\n",
    "print(len(total_crimes),len(agency_jurisdiction))   \n",
    "\n",
    "\n",
    "plot_df=pd.DataFrame({'states':agency_jurisdiction,'num':total_crimes,'popu':population})\n",
    "plot_df=plot_df.sort_values('num',ascending=False)\n",
    "plt.bar(height=plot_df.popu,left=[1,2,3,4,5,6,7,8,9,10],align='center',color='r',label=\"Population\")\n",
    "\n",
    "plt.bar(height=plot_df.num,left=[1,2,3,4,5,6,7,8,9,10],align='center',color='b',label=\"Crimes\")\n",
    "\n",
    "plt.xticks([1,2,3,4,5,6,7,8,9,10],plot_df.states,rotation='vertical')\n",
    "plt.ylabel(\"Number\")\n",
    "plt.legend()\n",
    "plt.show()\n"
   ]
  },
  {
   "cell_type": "markdown",
   "metadata": {},
   "source": [
    "We can see that there isn't a corelation between the population and the crimes because some places like Atlanta,GA shows that there might be but others like Baltimore Country,MD show us totaly different results"
   ]
  },
  {
   "cell_type": "markdown",
   "metadata": {},
   "source": [
    "## Additional data"
   ]
  },
  {
   "cell_type": "markdown",
   "metadata": {},
   "source": [
    "First I am  droping some of the unnecessary columns and then I am tranforming the dates to datetime objects."
   ]
  },
  {
   "cell_type": "code",
   "execution_count": null,
   "metadata": {
    "collapsed": false
   },
   "outputs": [],
   "source": [
    "crimes=pd.read_csv(\"crimes.csv\")\n",
    "crimes=crimes.drop(['x','y','OBJECTID','ESRI_OID','Time'],axis=1)\n",
    "crimes.columns=['publicaddress', 'controlnbr', 'CCN', 'precinct', 'reported_date',\n",
    "       'begin_date', 'offense', 'description', 'UCRCode', 'entered_date',\n",
    "       'long', 'lat', 'neighborhood', 'lastchanged', 'last_update_date']\n",
    "crimes.dtypes\n",
    "#2015-09-21T14:16:59.000Z\n",
    "crimes['reported_date']=pd.to_datetime(crimes['reported_date'],format='%Y-%m-%d',errors='ignore')\n",
    "crimes['entered_date']=pd.to_datetime(crimes['entered_date'],format='%Y-%m-%d',errors='ignore')\n",
    "crimes['lastchanged']=pd.to_datetime(crimes['lastchanged'],format='%Y-%m-%d',errors='ignore')\n",
    "crimes['last_update_date']=pd.to_datetime(crimes['last_update_date'],format='%Y-%m-%d',errors='ignore')\n",
    "crimes['begin_date']=pd.to_datetime(crimes['begin_date'],format='%Y-%m-%d',errors='ignore')\n",
    "crimes=crimes.dropna()"
   ]
  },
  {
   "cell_type": "markdown",
   "metadata": {},
   "source": [
    "•\tTotal number of crimes per year: Count all crimes for years in the dataset (2010-2016). Print the total number."
   ]
  },
  {
   "cell_type": "code",
   "execution_count": null,
   "metadata": {
    "collapsed": false
   },
   "outputs": [],
   "source": [
    "print(str(len(crimes))+\" \"+\"crimes between 2010 and 2016\")"
   ]
  },
  {
   "cell_type": "markdown",
   "metadata": {},
   "source": [
    "•\tPlot how crimes evolve each year"
   ]
  },
  {
   "cell_type": "code",
   "execution_count": null,
   "metadata": {
    "collapsed": false
   },
   "outputs": [],
   "source": [
    "year_10=0\n",
    "year_11=0\n",
    "year_12=0\n",
    "year_13=0\n",
    "year_14=0\n",
    "year_15=0\n",
    "year_16=0\n",
    "\n",
    "for date in crimes.begin_date:\n",
    "    if date.year==2010:\n",
    "        year_10+=1\n",
    "    elif date.year==2011:\n",
    "        year_11+=1\n",
    "    elif date.year==2012:\n",
    "        year_12+=1\n",
    "    elif date.year==2013:\n",
    "        year_13+=1\n",
    "    elif date.year==2014:\n",
    "        year_14+=1    \n",
    "    elif date.year==2015:\n",
    "        year_15+=1\n",
    "    elif date.year==2016:\n",
    "        year_16+=1\n",
    "plt.bar(height=[year_10,year_11,year_12,year_13,year_14,year_15,year_16],left=[1, 2, 3, 4 ,5 ,6 ,7],align='center')\n",
    "plt.ylabel(\"Number of Crimes\")\n",
    "plt.xticks([1, 2, 3, 4 ,5 ,6 ,7],['2010','2011','2012','2013','2014','2015','2016',])\n",
    "plt.show()"
   ]
  },
  {
   "cell_type": "markdown",
   "metadata": {},
   "source": [
    "From 2010 to 2012 ther is a sligth raise in the number of crimes.However from 2012 to 2016 there is a drop in the number of crimes committed."
   ]
  },
  {
   "cell_type": "markdown",
   "metadata": {},
   "source": [
    "•\tCompare the previous plot to the plots in the previous exercise.\n",
    "Note: In order to make comparison better, plot the data for all states again, but this time filter only years 2010-2016. Does the crime rate in MN have any connection to the total crime rate? What percentage of the total crime rate (in all given states) is given by MN?\n"
   ]
  },
  {
   "cell_type": "code",
   "execution_count": null,
   "metadata": {
    "collapsed": false
   },
   "outputs": [],
   "source": [
    "crime_states=[]\n",
    "total_crimes=[]\n",
    "counter=0\n",
    "gencies_df=crime_reports.sort_values('violent_crimes',ascending=False)\n",
    "for state in crime_reports.state.unique():\n",
    "    jurisdicition_df=crime_reports[crime_reports.state==state]\n",
    "    right_year=jurisdicition_df[jurisdicition_df.report_year>2009]\n",
    "   \n",
    "    all_crimes=right_year.violent_crimes.sum()\n",
    "    total_crimes.append(all_crimes)\n",
    "    crime_states.append(state)\n",
    "    counter+=1\n",
    "    jurisdicitons.append(jurisdiciton)\n",
    "    if counter==10:\n",
    "        break\n",
    "        \n",
    "plot_df=pd.DataFrame({'states':crime_states,'num':total_crimes})\n",
    "plot_df=plot_df.sort_values('num',ascending=False)\n",
    "plt.bar(height=plot_df.num,left=[1,2,3,4,5,6,7,8,9,10],align='center')\n",
    "plt.xticks([1,2,3,4,5,6,7,8,9,10],plot_df.states)\n",
    "plt.ylabel(\"Number Of Crimes\")\n",
    "plt.show()\n",
    "\n",
    "year_10=0\n",
    "year_11=0\n",
    "year_12=0\n",
    "year_13=0\n",
    "year_14=0\n",
    "year_15=0\n",
    "year_16=0\n",
    "\n",
    "for date in crimes.begin_date:\n",
    "    if date.year==2010:\n",
    "        year_10+=1\n",
    "    elif date.year==2011:\n",
    "        year_11+=1\n",
    "    elif date.year==2012:\n",
    "        year_12+=1\n",
    "    elif date.year==2013:\n",
    "        year_13+=1\n",
    "    elif date.year==2014:\n",
    "        year_14+=1    \n",
    "    elif date.year==2015:\n",
    "        year_15+=1\n",
    "    elif date.year==2016:\n",
    "        year_16+=1\n",
    "plt.bar(height=[year_10,year_11,year_12,year_13,year_14,year_15,year_16],left=[1, 2, 3, 4 ,5 ,6 ,7],align='center')\n",
    "plt.ylabel(\"Number of Crimes\")\n",
    "plt.xticks([1, 2, 3, 4 ,5 ,6 ,7],['2010','2011','2012','2013','2014','2015','2016',])\n",
    "plt.show()\n",
    "whole_number = sum(i for i in total_crimes)\n",
    "\n",
    "print(str(len(crimes)/whole_number)+' '+'% from the total number of crimes committed between 2010 and 2016')"
   ]
  },
  {
   "cell_type": "markdown",
   "metadata": {},
   "source": [
    "•\tCross-dataset matching: Get data from the previous dataset (crime rates in the US) again. This time, search only for MN and only for years 2010-2016. Do you have any results? If so, the results for total crime in MN should match in both datasets. Do they match?"
   ]
  },
  {
   "cell_type": "code",
   "execution_count": null,
   "metadata": {
    "collapsed": false
   },
   "outputs": [],
   "source": [
    "year_10n=4064.0\n",
    "year_11n=3722.0\n",
    "year_12n=3872.0\n",
    "year_13n=4038.0\n",
    "year_14n=4093.0\n",
    "year_15n=0\n",
    "year_16n=0\n",
    "MN=crime_reports[crime_reports.state==\"MN\"]\n",
    "MN=MN[MN.report_year>2009]\n",
    "number_crimes=sum(MN.violent_crimes)\n",
    "print(str(int(number_crimes))+\" from the first data set\")\n",
    "print(str(len(crimes))+\" \"+\"from the second data set\")\n",
    "\n",
    "\n",
    "\n",
    "year_10=0\n",
    "year_11=0\n",
    "year_12=0\n",
    "year_13=0\n",
    "year_14=0\n",
    "year_15=0\n",
    "year_16=0\n",
    "\n",
    "for date in crimes.begin_date:\n",
    "    if date.year==2010:\n",
    "        year_10+=1\n",
    "    elif date.year==2011:\n",
    "        year_11+=1\n",
    "    elif date.year==2012:\n",
    "        year_12+=1\n",
    "    elif date.year==2013:\n",
    "        year_13+=1\n",
    "    elif date.year==2014:\n",
    "        year_14+=1    \n",
    "    elif date.year==2015:\n",
    "        year_15+=1\n",
    "    elif date.year==2016:\n",
    "        year_16+=1\n",
    "plt.bar(height=[year_10,year_11,year_12,year_13,year_14,year_15,year_16],left=[1, 2, 3, 4 ,5 ,6 ,7],align='center',color='r',label=\"Second DataSet values\")\n",
    "\n",
    "plt.bar(height=[year_10n,year_11n,year_12n,year_13n,year_14n,year_15n,year_16n],left=[1,2,3,4,5,6,7],align='center',color='b',label=\"First DataSet values\")\n",
    "plt.legend()\n",
    "plt.xticks([1,2,3,4,5,6,7],['2010','2011','2012','2013','2014','2015','2016',])\n",
    "plt.ylabel(\"Crimes\")\n",
    "plt.show()\n"
   ]
  },
  {
   "cell_type": "markdown",
   "metadata": {},
   "source": [
    "The values in the first data set are until 2014 and they are much smaller than those in the second.There is a big difference between the two."
   ]
  },
  {
   "cell_type": "markdown",
   "metadata": {},
   "source": [
    "## Temporal Analysis"
   ]
  },
  {
   "cell_type": "markdown",
   "metadata": {},
   "source": [
    "•\tLook at the crime categories. Which is the most popular crime category in MN overall?"
   ]
  },
  {
   "cell_type": "code",
   "execution_count": null,
   "metadata": {
    "collapsed": false
   },
   "outputs": [],
   "source": [
    "crimes.description.unique()\n",
    "d={'Shoplifting':1, 'Theft From Motr Vehc':1, 'Other Theft':1,\n",
    "       'Theft From Building':1, 'Crim Sex Cond-rape':1, 'Burglary Of Dwelling':1,\n",
    "       'Theft From Person':1, 'Motor Vehicle Theft':1, 'Robbery Of Business':1,\n",
    "       'Aslt-police/emerg P':1, 'Domestic Assault/Strangulation':1,\n",
    "       'Theft-motr Veh Parts':1, 'Robbery Of Person':1, 'Asslt W/dngrs Weapon':1,\n",
    "       'Robbery Per Agg':1, 'Burglary Of Business':1, 'Arson':1,\n",
    "       'Theft By Swindle':1, 'Aslt-great Bodily Hm':1, 'Aslt-sgnfcnt Bdly Hm':1,\n",
    "       'On-line Theft':1, '2nd Deg Domes Aslt':1, 'Murder (general)':1,\n",
    "       'Adulteration/poison':1, 'Gas Station Driv-off':1,\n",
    "       'Other Vehicle Theft':1, '3rd Deg Domes Aslt':1, 'Pocket-picking':1,\n",
    "       'Theft/coinop Device':1, 'Disarm a Police Officer':1,\n",
    "       'Theft By Computer':1, '1st Deg Domes Asslt':1, 'Bike Theft':1,\n",
    "       'Scrapping-Recycling Theft':1, 'Justifiable Homicide':0, 'Looting':1}\n",
    "for desc in crimes.description:\n",
    "    d[desc]+=1\n",
    "sorted_d = sorted(d.items(), key=operator.itemgetter(1))\n",
    "print(sorted_d)"
   ]
  },
  {
   "cell_type": "markdown",
   "metadata": {},
   "source": [
    "The most common type is Other theft but since it si do unclear we can say that Burglary of Dwelling is the most commnon type of theft."
   ]
  },
  {
   "cell_type": "markdown",
   "metadata": {},
   "source": [
    "•\tBreak down the data by months. Plot the total number of crimes for each month, summed over the years. Is there a seasonal component? Which month has the highest crime rate? Which has the smallest? Are the differences significant?\n"
   ]
  },
  {
   "cell_type": "code",
   "execution_count": null,
   "metadata": {
    "collapsed": false
   },
   "outputs": [],
   "source": [
    "january=0\n",
    "february=0\n",
    "march=0\n",
    "april=0\n",
    "may=0\n",
    "june=0\n",
    "july=0\n",
    "august=0\n",
    "september=0\n",
    "october=0\n",
    "november=0\n",
    "december=0\n",
    "for date in crimes.begin_date:\n",
    "    if(date.month==1):\n",
    "        january+=1\n",
    "    elif(date.month==2):\n",
    "        february+=1\n",
    "    elif(date.month==3):\n",
    "        march+=1\n",
    "    elif(date.month==4):\n",
    "        april+=1\n",
    "    elif(date.month==5):\n",
    "        may+=1\n",
    "    elif(date.month==6):\n",
    "        june+=1\n",
    "    elif(date.month==7):\n",
    "        july+=1\n",
    "    elif(date.month==8):\n",
    "        august+=1\n",
    "    elif(date.month==9):\n",
    "        september+=1\n",
    "    elif(date.month==10):\n",
    "        october+=1\n",
    "    elif(date.month==11):\n",
    "        november+=1\n",
    "    elif(date.month==12):\n",
    "        december+=1\n",
    "plt.bar(height=[january,february,march,april,may,june,july,august,september,october,november,december]\n",
    "        ,left=[1,2,3,4,5,6,7,8,9,10,11,12],align='center')\n",
    "plt.xticks([1,2,3,4,5,6,7,8,9,10,11,12],\n",
    "           ['january','february','march','april','may','june','july','august','september','october','november','december']\n",
    "           ,rotation='vertical')\n",
    "plt.ylabel(\"Number Of Crimes\")\n",
    "plt.show()"
   ]
  },
  {
   "cell_type": "markdown",
   "metadata": {},
   "source": [
    "We can see that most of the crimes are in june and that there is seasonal tendency that most of the crimes are committer in the summer."
   ]
  },
  {
   "cell_type": "markdown",
   "metadata": {},
   "source": [
    "•\tBreak the results by weekday. You can get the weekday from the date (there are functions for this). Do more crimes happen on \n",
    "the weekends?"
   ]
  },
  {
   "cell_type": "code",
   "execution_count": null,
   "metadata": {
    "collapsed": false
   },
   "outputs": [],
   "source": [
    "Monday=0\n",
    "Tuesday=0\n",
    "Wednesday=0\n",
    "Thursday=0\n",
    "Friday=0\n",
    "Saturday=0\n",
    "Sunday=0\n",
    "for date in crimes.begin_date:\n",
    "    if(date.weekday()==0):\n",
    "        Monday+=1\n",
    "    elif(date.weekday()==1):\n",
    "        Tuesday+=1\n",
    "    elif(date.weekday()==2):\n",
    "        Wednesday+=1\n",
    "    elif(date.weekday()==3):\n",
    "        Thursday+=1\n",
    "    elif(date.weekday()==4):\n",
    "        Friday+=1\n",
    "    elif(date.weekday()==5):\n",
    "        Saturday+=1\n",
    "    elif(date.weekday()==6):\n",
    "        Sunday+=1\n",
    "    \n",
    "plt.bar(height=[Monday,Tuesday,Wednesday,Thursday,Friday,Saturday,Sunday]\n",
    "        ,left=[1,2,3,4,5,6,7],align='center')\n",
    "plt.xticks([1,2,3,4,5,6,7],['Monday','Tuesday','Wednesday','Thursday','Friday','Saturday','Sunday'],rotation='vertical')\n",
    "plt.ylabel(\"Number Of Crimes\")\n",
    "plt.show()"
   ]
  },
  {
   "cell_type": "markdown",
   "metadata": {},
   "source": [
    "Most crimes are committed on Fridays.On the second place are Thursdays."
   ]
  },
  {
   "cell_type": "markdown",
   "metadata": {},
   "source": [
    "•\tBreak the weekday data by crime type. Are certain types of crime more likely to happen on a given day? Comment your findings.\n",
    "I have no time to complete this because I have a Programming Fundamentals Exam to take but I would make 7 plots one for each day of the week with the top 10 types of crimes."
   ]
  },
  {
   "cell_type": "markdown",
   "metadata": {},
   "source": [
    "## 5.\tSignificant Factors in Crime"
   ]
  },
  {
   "cell_type": "code",
   "execution_count": null,
   "metadata": {
    "collapsed": false
   },
   "outputs": [],
   "source": [
    "communities= pd.read_table(\"communities.data\",sep=',',header=None)\n",
    "communities.columns\n",
    "communities_names= pd.read_table('communities.names',header=None)\n",
    "communities_names"
   ]
  }
 ],
 "metadata": {
  "anaconda-cloud": {},
  "kernelspec": {
   "display_name": "Python [conda root]",
   "language": "python",
   "name": "conda-root-py"
  },
  "language_info": {
   "codemirror_mode": {
    "name": "ipython",
    "version": 3
   },
   "file_extension": ".py",
   "mimetype": "text/x-python",
   "name": "python",
   "nbconvert_exporter": "python",
   "pygments_lexer": "ipython3",
   "version": "3.5.2"
  }
 },
 "nbformat": 4,
 "nbformat_minor": 1
}
